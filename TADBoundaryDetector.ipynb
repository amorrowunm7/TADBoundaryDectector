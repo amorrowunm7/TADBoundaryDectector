{
 "cells": [
  {
   "cell_type": "markdown",
   "metadata": {},
   "source": [
    "\n",
    "## Load the example h5 file and store in numpy matrices"
   ]
  },
  {
   "cell_type": "code",
   "execution_count": 1,
   "metadata": {},
   "outputs": [
    {
     "name": "stderr",
     "output_type": "stream",
     "text": [
      "C:\\Users\\soibamb\\Anaconda3\\lib\\site-packages\\h5py\\__init__.py:36: FutureWarning: Conversion of the second argument of issubdtype from `float` to `np.floating` is deprecated. In future, it will be treated as `np.float64 == np.dtype(float).type`.\n",
      "  from ._conv import register_converters as _register_converters\n"
     ]
    }
   ],
   "source": [
    "import h5py\n",
    "import numpy as np\n",
    "filename = 'dm3.kc167.example.h5'\n",
    "f = h5py.File(filename, 'r')\n",
    "x_train = np.array(f['x_train'])\n",
    "x_test = np.array(f['x_test'])\n",
    "x_val = np.array(f['x_val'])\n",
    "y_train = np.array(f['y_train'])\n",
    "y_test = np.array(f['y_test'])\n",
    "y_val= np.array(f['y_val'])"
   ]
  },
  {
   "cell_type": "code",
   "execution_count": 2,
   "metadata": {},
   "outputs": [
    {
     "name": "stdout",
     "output_type": "stream",
     "text": [
      "(28127, 1000, 4)\n",
      "(28127,)\n",
      "(1000, 1000, 4)\n",
      "(1000,)\n",
      "(1000, 1000, 4)\n",
      "(1000,)\n"
     ]
    }
   ],
   "source": [
    "print(x_train.shape)\n",
    "print(y_train.shape)\n",
    "print(x_test.shape)\n",
    "print(y_test.shape)\n",
    "print(x_val.shape)\n",
    "print(y_val.shape)"
   ]
  },
  {
   "cell_type": "markdown",
   "metadata": {},
   "source": [
    "## Train CNN Models"
   ]
  },
  {
   "cell_type": "code",
   "execution_count": null,
   "metadata": {},
   "outputs": [],
   "source": [
    "INPUT_SHAPE = x_train.shape[1:3]\n",
    "KERNEL_SIZE = 9\n",
    "OPTIMIZER = 0.001\n",
    "NUM_KERNEL = 64\n",
    "outputFile = 'dm3.kc167'\n",
    "import Models\n",
    "Models.one_CNN(x_train,y_train,x_test,y_test,x_val,y_val,OPTIMIZER,INPUT_SHAPE,KERNEL_SIZE,NUM_KERNEL,outputFile)\n",
    "Models.two_CNN(x_train,y_train,x_test,y_test,x_val,y_val,OPTIMIZER,INPUT_SHAPE,KERNEL_SIZE,NUM_KERNEL,outputFile)\n",
    "Models.three_CNN(x_train,y_train,x_test,y_test,x_val,y_val,OPTIMIZER,INPUT_SHAPE,KERNEL_SIZE,NUM_KERNEL,outputFile)\n",
    "Models.four_CNN(x_train,y_train,x_test,y_test,x_val,y_val,OPTIMIZER,INPUT_SHAPE,KERNEL_SIZE,NUM_KERNEL,outputFile)\n",
    "Models.eight_CNN(x_train,y_train,x_test,y_test,x_val,y_val,OPTIMIZER,INPUT_SHAPE,KERNEL_SIZE,NUM_KERNEL,outputFile)"
   ]
  }
 ],
 "metadata": {
  "kernelspec": {
   "display_name": "Python 3",
   "language": "python",
   "name": "python3"
  },
  "language_info": {
   "codemirror_mode": {
    "name": "ipython",
    "version": 3
   },
   "file_extension": ".py",
   "mimetype": "text/x-python",
   "name": "python",
   "nbconvert_exporter": "python",
   "pygments_lexer": "ipython3",
   "version": "3.6.4"
  }
 },
 "nbformat": 4,
 "nbformat_minor": 2
}
